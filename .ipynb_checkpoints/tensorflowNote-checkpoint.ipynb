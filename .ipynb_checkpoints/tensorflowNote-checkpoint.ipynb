{
 "cells": [
  {
   "cell_type": "markdown",
   "metadata": {},
   "source": [
    "Computation Graph \n",
    "\n",
    "( a * b ) + c"
   ]
  },
  {
   "cell_type": "markdown",
   "metadata": {},
   "source": [
    "Tensor is n-dimension structure\n",
    "\n",
    "* Single value , n = 0\n",
    "* List of values , n = 1\n",
    "* Matrix of values , n = 2\n",
    "\n"
   ]
  },
  {
   "cell_type": "markdown",
   "metadata": {},
   "source": [
    "Tensor types\n",
    "\n",
    "* Constant : constant value \n",
    "* Variable : values adjusted in graph\n",
    "* PlaceHolder : used to pass data into graph"
   ]
  },
  {
   "cell_type": "code",
   "execution_count": 10,
   "metadata": {},
   "outputs": [],
   "source": [
    "# pip install tensorflow"
   ]
  },
  {
   "cell_type": "markdown",
   "metadata": {},
   "source": [
    "|Concept|Implementation|\n",
    "|---|---|\n",
    "|loss measurement|mean squared error|\n",
    "|optimizer to minimise loss|gradient descent optimizer|"
   ]
  },
  {
   "cell_type": "code",
   "execution_count": 12,
   "metadata": {},
   "outputs": [],
   "source": [
    "import tensorflow as tf \n",
    "import numpy as np \n",
    "import math\n",
    "import matplotlib.pyplot as plt "
   ]
  },
  {
   "cell_type": "code",
   "execution_count": 13,
   "metadata": {},
   "outputs": [
    {
     "data": {
      "text/plain": [
       "Text(0.5, 0, 'Size')"
      ]
     },
     "execution_count": 13,
     "metadata": {},
     "output_type": "execute_result"
    },
    {
     "data": {
      "image/png": "[encoded data removed]",
      "text/plain": [
       "<Figure size 432x288 with 1 Axes>"
      ]
     },
     "metadata": {
      "needs_background": "light"
     },
     "output_type": "display_data"
    }
   ],
   "source": [
    "num_house = 160\n",
    "np.random.seed(42)\n",
    "house_size = np.random.randint(\n",
    "    low=1000,\n",
    "    high=3500,\n",
    "    size=num_house\n",
    ")\n",
    "\n",
    "np.random.seed(42)\n",
    "house_price = house_size * 100.0 + np.random.randint(low=20000,high=70000,size=num_house)\n",
    "\n",
    "plt.plot(\n",
    "    house_size, house_price, \"bx\"\n",
    ")\n",
    "\n",
    "plt.ylabel('Price')\n",
    "plt.xlabel('Size')"
   ]
  },
  {
   "cell_type": "code",
   "execution_count": 27,
   "metadata": {},
   "outputs": [],
   "source": [
    "# prevent under/overflows\n",
    "def normalize(arr):\n",
    "    return (arr - arr.mean())/arr.std()"
   ]
  },
  {
   "cell_type": "markdown",
   "metadata": {},
   "source": [
    "### Train"
   ]
  },
  {
   "cell_type": "code",
   "execution_count": 15,
   "metadata": {},
   "outputs": [],
   "source": [
    "num_train_samples = math.floor(num_house * 0.7)"
   ]
  },
  {
   "cell_type": "code",
   "execution_count": 26,
   "metadata": {},
   "outputs": [],
   "source": [
    "train_house_size = np.asarray(house_size[:num_train_samples])"
   ]
  },
  {
   "cell_type": "code",
   "execution_count": 29,
   "metadata": {},
   "outputs": [],
   "source": [
    "train_price = np.asanyarray(house_price[:num_train_samples:])"
   ]
  },
  {
   "cell_type": "code",
   "execution_count": 30,
   "metadata": {},
   "outputs": [],
   "source": [
    "train_house_size_norm = normalize(train_house_size)\n",
    "train_price_norm = normalize(train_price)"
   ]
  },
  {
   "cell_type": "markdown",
   "metadata": {},
   "source": [
    "### Test"
   ]
  },
  {
   "cell_type": "code",
   "execution_count": 31,
   "metadata": {},
   "outputs": [],
   "source": [
    "test_house_size = np.array(house_size[num_train_samples:])\n",
    "test_house_price = np.array(house_price[num_train_samples:])"
   ]
  },
  {
   "cell_type": "code",
   "execution_count": 32,
   "metadata": {},
   "outputs": [],
   "source": [
    "test_house_size_norm = normalize(test_house_size)\n",
    "test_house_price_norm = normalize(test_house_price)"
   ]
  },
  {
   "cell_type": "code",
   "execution_count": 35,
   "metadata": {},
   "outputs": [
    {
     "name": "stdout",
     "output_type": "stream",
     "text": [
      "WARNING:tensorflow:From /Library/Frameworks/Python.framework/Versions/3.7/lib/python3.7/site-packages/tensorflow/python/compat/v2_compat.py:96: disable_resource_variables (from tensorflow.python.ops.variable_scope) is deprecated and will be removed in a future version.\n",
      "Instructions for updating:\n",
      "non-resource variables are not supported in the long term\n"
     ]
    }
   ],
   "source": [
    "import tensorflow.compat.v1 as tf\n",
    "tf.disable_v2_behavior() "
   ]
  },
  {
   "cell_type": "code",
   "execution_count": 37,
   "metadata": {},
   "outputs": [],
   "source": [
    "# tensorflow placeholders , get updated as we descend down the gradient \n",
    "tf_house_size = tf.placeholder('float',name=\"house_size\")\n",
    "tf_price = tf.placeholder('float',name=\"price\")\n",
    "\n",
    "tf_size_factor = tf.Variable(np.random.randn(),name=\"size_factor\")\n",
    "tf_price_offset = tf.Variable(np.random.randn(),name=\"price_offset\")"
   ]
  },
  {
   "cell_type": "code",
   "execution_count": 38,
   "metadata": {},
   "outputs": [],
   "source": [
    "tf_price_pred = tf.add(tf.multiply(tf_size_factor,tf_house_size),tf_price_offset)"
   ]
  },
  {
   "cell_type": "code",
   "execution_count": 39,
   "metadata": {},
   "outputs": [],
   "source": [
    "# loss function , mean squared error \n",
    "tf_cost = tf.reduce_sum(tf.pow(tf_price_pred - tf_price,2))/(2*num_train_samples)"
   ]
  },
  {
   "cell_type": "code",
   "execution_count": 40,
   "metadata": {},
   "outputs": [],
   "source": [
    "# optimise learning_rate, size of steps down the gradient\n",
    "learning_rate = 0.1\n",
    "\n",
    "# gradient descent optimizer that will minimise the loss in the loss(cost) function\n",
    "optimizer = tf.train.GradientDescentOptimizer(learning_rate).minimize(tf_cost)"
   ]
  },
  {
   "cell_type": "code",
   "execution_count": 41,
   "metadata": {},
   "outputs": [],
   "source": [
    "init = tf.global_variables_initializer()"
   ]
  },
  {
   "cell_type": "code",
   "execution_count": 46,
   "metadata": {},
   "outputs": [
    {
     "name": "stdout",
     "output_type": "stream",
     "text": [
      "iteration #: 0002 cost= 0.720058978 size_factor= 0.091779955 price_offset= -0.78197587\n",
      "iteration #: 0004 cost= 0.488989919 size_factor= 0.2530591 price_offset= -0.6400547\n",
      "iteration #: 0006 cost= 0.334198892 size_factor= 0.38506955 price_offset= -0.52387947\n",
      "iteration #: 0008 cost= 0.230510592 size_factor= 0.4931228 price_offset= -0.42877954\n",
      "iteration #: 0010 cost= 0.161057353 size_factor= 0.5815667 price_offset= -0.350931\n",
      "iteration #: 0012 cost= 0.114538930 size_factor= 0.65396035 price_offset= -0.2872049\n",
      "iteration #: 0014 cost= 0.083384469 size_factor= 0.713216 price_offset= -0.23503916\n",
      "iteration #: 0016 cost= 0.062521778 size_factor= 0.76171756 price_offset= -0.19233663\n",
      "iteration #: 0018 cost= 0.048552588 size_factor= 0.8014175 price_offset= -0.1573807\n",
      "iteration #: 0020 cost= 0.039200630 size_factor= 0.8339127 price_offset= -0.1287661\n",
      "iteration #: 0022 cost= 0.032940891 size_factor= 0.86051065 price_offset= -0.10534229\n",
      "iteration #: 0024 cost= 0.028751852 size_factor= 0.882282 price_offset= -0.08616769\n",
      "iteration #: 0026 cost= 0.025949383 size_factor= 0.90010184 price_offset= -0.070471555\n",
      "iteration #: 0028 cost= 0.024075124 size_factor= 0.9146879 price_offset= -0.057622794\n",
      "iteration #: 0030 cost= 0.022822181 size_factor= 0.92662656 price_offset= -0.047104843\n",
      "iteration #: 0032 cost= 0.021984996 size_factor= 0.9363989 price_offset= -0.038494956\n",
      "iteration #: 0034 cost= 0.021425983 size_factor= 0.9443974 price_offset= -0.031446975\n",
      "iteration #: 0036 cost= 0.021052985 size_factor= 0.9509445 price_offset= -0.025677538\n",
      "iteration #: 0038 cost= 0.020804334 size_factor= 0.9563038 price_offset= -0.02095472\n",
      "iteration #: 0040 cost= 0.020638788 size_factor= 0.96069014 price_offset= -0.01708865\n",
      "iteration #: 0042 cost= 0.020528717 size_factor= 0.9642808 price_offset= -0.013923926\n",
      "iteration #: 0044 cost= 0.020455671 size_factor= 0.96721953 price_offset= -0.011333294\n",
      "iteration #: 0046 cost= 0.020407304 size_factor= 0.96962523 price_offset= -0.009212625\n",
      "iteration #: 0048 cost= 0.020375367 size_factor= 0.97159415 price_offset= -0.0074766637\n",
      "iteration #: 0050 cost= 0.020354353 size_factor= 0.97320557 price_offset= -0.0060556126\n",
      "Optimization Finished\n",
      "Trained cost= 0.020354353 size_factor= 0.97320557 price_offset= -0.0060556126\n"
     ]
    }
   ],
   "source": [
    "with tf.compat.v1.Session() as sess:\n",
    "    sess.run(init)\n",
    "    display_every = 2\n",
    "    num_training_iter = 50\n",
    "    for iteration in range(num_training_iter):\n",
    "#         fit all training data\n",
    "        for (x,y) in zip(train_house_size_norm,train_price_norm):\n",
    "            sess.run(optimizer, feed_dict={tf_house_size:x ,tf_price:y})\n",
    "#         display current status\n",
    "        if (iteration + 1) % display_every ==0:\n",
    "            c = sess.run(tf_cost,feed_dict={tf_house_size: train_house_size_norm, tf_price:train_price_norm})\n",
    "            print(\"iteration #:\",'%04d'%(iteration + 1), \"cost=\", \"{:.9f}\".format(c),\\\n",
    "                  \"size_factor=\", sess.run(tf_size_factor), \"price_offset=\", sess.run(tf_price_offset))\n",
    "    print(\"Optimization Finished\")\n",
    "    training_cost = sess.run(tf_cost,feed_dict={tf_house_size: train_house_size_norm, tf_price: train_price_norm})\n",
    "    print(\"Trained cost=\",training_cost, \"size_factor=\", sess.run(tf_size_factor), \"price_offset=\", sess.run(tf_price_offset))\n",
    "        "
   ]
  },
  {
   "cell_type": "code",
   "execution_count": 48,
   "metadata": {},
   "outputs": [],
   "source": [
    "train_house_size_mean = train_house_size.mean()\n",
    "train_house_size_std = train_house_size.std()\n",
    "train_price_mean = train_price.mean()\n",
    "train_price_std = train_price.std()"
   ]
  },
  {
   "cell_type": "code",
   "execution_count": 50,
   "metadata": {},
   "outputs": [
    {
     "ename": "RuntimeError",
     "evalue": "Attempted to use a closed Session.",
     "output_type": "error",
     "traceback": [
      "\u001b[0;31m-----------------------------------------------------------------------\u001b[0m",
      "\u001b[0;31mRuntimeError\u001b[0m                          Traceback (most recent call last)",
      "\u001b[0;32m<ipython-input-50-662631def830>\u001b[0m in \u001b[0;36m<module>\u001b[0;34m\u001b[0m\n\u001b[1;32m      6\u001b[0m \u001b[0mplt\u001b[0m\u001b[0;34m.\u001b[0m\u001b[0mplot\u001b[0m\u001b[0;34m(\u001b[0m\u001b[0mtest_house_size\u001b[0m\u001b[0;34m,\u001b[0m\u001b[0mtest_house_price\u001b[0m\u001b[0;34m,\u001b[0m\u001b[0;34m\"mo\"\u001b[0m\u001b[0;34m,\u001b[0m\u001b[0mlabel\u001b[0m\u001b[0;34m=\u001b[0m\u001b[0;34m'Testing data'\u001b[0m\u001b[0;34m)\u001b[0m\u001b[0;34m\u001b[0m\u001b[0;34m\u001b[0m\u001b[0m\n\u001b[1;32m      7\u001b[0m plt.plot(train_house_size * train_house_size_std + train_house_size_mean,\n\u001b[0;32m----> 8\u001b[0;31m          \u001b[0;34m(\u001b[0m\u001b[0msess\u001b[0m\u001b[0;34m.\u001b[0m\u001b[0mrun\u001b[0m\u001b[0;34m(\u001b[0m\u001b[0mtf_size_factor\u001b[0m\u001b[0;34m)\u001b[0m\u001b[0;34m*\u001b[0m\u001b[0mtrain_house_size_norm\u001b[0m \u001b[0;34m+\u001b[0m \u001b[0msess\u001b[0m\u001b[0;34m.\u001b[0m\u001b[0mrun\u001b[0m\u001b[0;34m(\u001b[0m\u001b[0mtf_price_offset\u001b[0m\u001b[0;34m)\u001b[0m\u001b[0;34m)\u001b[0m \u001b[0;34m*\u001b[0m \u001b[0mtrain_price_std\u001b[0m \u001b[0;34m+\u001b[0m \u001b[0mtrain_price_mean\u001b[0m\u001b[0;34m,\u001b[0m\u001b[0;34m\u001b[0m\u001b[0;34m\u001b[0m\u001b[0m\n\u001b[0m\u001b[1;32m      9\u001b[0m          \u001b[0mlabel\u001b[0m\u001b[0;34m=\u001b[0m\u001b[0;34m'Learned Regression'\u001b[0m\u001b[0;34m\u001b[0m\u001b[0;34m\u001b[0m\u001b[0m\n\u001b[1;32m     10\u001b[0m         )\n",
      "\u001b[0;32m/Library/Frameworks/Python.framework/Versions/3.7/lib/python3.7/site-packages/tensorflow/python/client/session.py\u001b[0m in \u001b[0;36mrun\u001b[0;34m(self, fetches, feed_dict, options, run_metadata)\u001b[0m\n\u001b[1;32m    956\u001b[0m     \u001b[0;32mtry\u001b[0m\u001b[0;34m:\u001b[0m\u001b[0;34m\u001b[0m\u001b[0;34m\u001b[0m\u001b[0m\n\u001b[1;32m    957\u001b[0m       result = self._run(None, fetches, feed_dict, options_ptr,\n\u001b[0;32m--> 958\u001b[0;31m                          run_metadata_ptr)\n\u001b[0m\u001b[1;32m    959\u001b[0m       \u001b[0;32mif\u001b[0m \u001b[0mrun_metadata\u001b[0m\u001b[0;34m:\u001b[0m\u001b[0;34m\u001b[0m\u001b[0;34m\u001b[0m\u001b[0m\n\u001b[1;32m    960\u001b[0m         \u001b[0mproto_data\u001b[0m \u001b[0;34m=\u001b[0m \u001b[0mtf_session\u001b[0m\u001b[0;34m.\u001b[0m\u001b[0mTF_GetBuffer\u001b[0m\u001b[0;34m(\u001b[0m\u001b[0mrun_metadata_ptr\u001b[0m\u001b[0;34m)\u001b[0m\u001b[0;34m\u001b[0m\u001b[0;34m\u001b[0m\u001b[0m\n",
      "\u001b[0;32m/Library/Frameworks/Python.framework/Versions/3.7/lib/python3.7/site-packages/tensorflow/python/client/session.py\u001b[0m in \u001b[0;36m_run\u001b[0;34m(self, handle, fetches, feed_dict, options, run_metadata)\u001b[0m\n\u001b[1;32m   1102\u001b[0m     \u001b[0;31m# Check session.\u001b[0m\u001b[0;34m\u001b[0m\u001b[0;34m\u001b[0m\u001b[0;34m\u001b[0m\u001b[0m\n\u001b[1;32m   1103\u001b[0m     \u001b[0;32mif\u001b[0m \u001b[0mself\u001b[0m\u001b[0;34m.\u001b[0m\u001b[0m_closed\u001b[0m\u001b[0;34m:\u001b[0m\u001b[0;34m\u001b[0m\u001b[0;34m\u001b[0m\u001b[0m\n\u001b[0;32m-> 1104\u001b[0;31m       \u001b[0;32mraise\u001b[0m \u001b[0mRuntimeError\u001b[0m\u001b[0;34m(\u001b[0m\u001b[0;34m'Attempted to use a closed Session.'\u001b[0m\u001b[0;34m)\u001b[0m\u001b[0;34m\u001b[0m\u001b[0;34m\u001b[0m\u001b[0m\n\u001b[0m\u001b[1;32m   1105\u001b[0m     \u001b[0;32mif\u001b[0m \u001b[0mself\u001b[0m\u001b[0;34m.\u001b[0m\u001b[0mgraph\u001b[0m\u001b[0;34m.\u001b[0m\u001b[0mversion\u001b[0m \u001b[0;34m==\u001b[0m \u001b[0;36m0\u001b[0m\u001b[0;34m:\u001b[0m\u001b[0;34m\u001b[0m\u001b[0;34m\u001b[0m\u001b[0m\n\u001b[1;32m   1106\u001b[0m       raise RuntimeError('The Session graph is empty.  Add operations to the '\n",
      "\u001b[0;31mRuntimeError\u001b[0m: Attempted to use a closed Session."
     ]
    },
    {
     "data": {
      "image/png": "[encoded data removed]",
      "text/plain": [
       "<Figure size 720x576 with 1 Axes>"
      ]
     },
     "metadata": {
      "needs_background": "light"
     },
     "output_type": "display_data"
    }
   ],
   "source": [
    "plt.rcParams[\"figure.figsize\"] = (10,8)\n",
    "plt.figure()\n",
    "plt.ylabel(\"Price\")\n",
    "plt.xlabel(\"Size (sq.ft)\")\n",
    "plt.plot(train_house_size,train_price,\"go\",label='Training data')\n",
    "plt.plot(test_house_size,test_house_price,\"mo\",label='Testing data')\n",
    "plt.plot(train_house_size * train_house_size_std + train_house_size_mean,\n",
    "         (sess.run(tf_size_factor)*train_house_size_norm + sess.run(tf_price_offset)) * train_price_std + train_price_mean,\n",
    "         label='Learned Regression'\n",
    "        )\n",
    "\n",
    "plt.legend(loc='upper left')\n",
    "plt.show()"
   ]
  },
  {
   "cell_type": "markdown",
   "metadata": {},
   "source": [
    "# Tensor \n",
    "\n",
    "* An n-dimensional array or list used in Tensor to represent all data \n",
    "* Defined by properties , rank ,shape and type"
   ]
  },
  {
   "cell_type": "markdown",
   "metadata": {},
   "source": [
    "### Rank\n",
    "* Dimensionality of a tensor\n",
    "\n",
    "|Rank|Description|Example|\n",
    "|---|---|---|\n",
    "|0|Scalar|s = 145 |\n",
    "|1|Vector|v = [1,3,2,5,7]|\n",
    "|2|Matrix|m = [[1,5,6],[5,3,4]]|\n",
    "|3|3-Tensor (cube)| c = [ [[1,5,6],[5,3,4]] , [[9,3,5],[3,4,9]] , [[4,3,2],[3,6,7]] ]|"
   ]
  },
  {
   "cell_type": "markdown",
   "metadata": {},
   "source": [
    "### Shape\n",
    "\n",
    "* shape of data in tensor \n",
    "* related to rank\n",
    "\n",
    "|Rank|Description|Example|Shape|\n",
    "|---|---|---|---|\n",
    "|0|Scalar|s = 145|[]|\n",
    "|1|Vector|v = [1,3,2,5,7]|[5]|\n",
    "|2|Matrix|m = [[1,5,6],[5,3,4]]|[2,3]|\n",
    "|3|3-Tensor (cube)| c = [ [[1,5,6],[5,3,4]] , [[9,3,5],[3,4,9]] , [[4,3,2],[3,6,7]] ]|[3,2,3]|"
   ]
  },
  {
   "cell_type": "markdown",
   "metadata": {},
   "source": [
    "### Quantitization and quantitized no.\n",
    "\n",
    "* No. that have been scaled to fit into smaller representation\n",
    "* Processed faster \n",
    "* TensorFlow Processing Units (TPUs) utilize quantitized values "
   ]
  },
  {
   "cell_type": "markdown",
   "metadata": {},
   "source": [
    "### Methods\n",
    "\n",
    "* get_shape() - returns shape\n",
    "* reshape() - changes shape\n",
    "* rank - returns rank\n",
    "* dtype - return data type\n",
    "* cast - change data type"
   ]
  },
  {
   "cell_type": "code",
   "execution_count": null,
   "metadata": {},
   "outputs": [],
   "source": []
  }
 ],
 "metadata": {
  "kernelspec": {
   "display_name": "Python 3.7.4 64-bit",
   "language": "python",
   "name": "python37464bit4ad338c7328e4db69388c6d6cb8a3a52"
  },
  "language_info": {
   "codemirror_mode": {
    "name": "ipython",
    "version": 3
   },
   "file_extension": ".py",
   "mimetype": "text/x-python",
   "name": "python",
   "nbconvert_exporter": "python",
   "pygments_lexer": "ipython3",
   "version": "3.7.4"
  }
 },
 "nbformat": 4,
 "nbformat_minor": 4
}
