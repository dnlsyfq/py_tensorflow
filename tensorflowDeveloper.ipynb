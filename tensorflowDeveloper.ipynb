{
 "cells": [
  {
   "cell_type": "code",
   "execution_count": null,
   "outputs": [],
   "source": [
    "import tensorflow as tf\n",
    "import tensorflow_datasets as tfds\n",
    "import numpy as np\n",
    "import urllib3\n",
    "import pandas as pd\n",
    "import matplotlib.pyplot as plt\n",
    "from PIL import Image"
   ],
   "metadata": {
    "collapsed": false,
    "pycharm": {
     "name": "#%%\n"
    }
   }
  },
  {
   "cell_type": "code",
   "execution_count": null,
   "outputs": [],
   "source": [
    "print(tf.__version__)\n",
    "print(tfds.__version__)\n",
    "print(Image.__version__)"
   ],
   "metadata": {
    "collapsed": false,
    "pycharm": {
     "name": "#%%\n"
    }
   }
  },
  {
   "cell_type": "code",
   "execution_count": 8,
   "outputs": [
    {
     "name": "stdout",
     "output_type": "stream",
     "text": [
      " Volume in drive C has no label.\n",
      " Volume Serial Number is A8F7-A597\n",
      "\n",
      " Directory of C:\\Users\\dania\\Code\\python\\py_tensorflow\n",
      "\n",
      "07-Sep-21  02:39 PM    <DIR>          .\n",
      "07-Sep-21  02:39 PM    <DIR>          ..\n",
      "07-Sep-21  02:38 PM    <DIR>          .idea\n",
      "07-Sep-21  01:07 PM    <DIR>          .ipynb_checkpoints\n",
      "07-Sep-21  01:07 PM               534 house_price_prediction.py\n",
      "07-Sep-21  01:07 PM               597 README.md\n",
      "07-Sep-21  01:09 PM                60 requirements.txt\n",
      "07-Sep-21  02:39 PM             1,613 tensorflowDeveloper.ipynb\n",
      "07-Sep-21  01:56 PM            57,818 tensorflowNote.ipynb\n",
      "07-Sep-21  01:07 PM               208 tf_one.py\n",
      "               6 File(s)         60,830 bytes\n",
      "               4 Dir(s)  96,046,772,224 bytes free\n"
     ]
    }
   ],
   "source": [
    "ls"
   ],
   "metadata": {
    "collapsed": false,
    "pycharm": {
     "name": "#%%\n"
    }
   }
  },
  {
   "cell_type": "code",
   "execution_count": null,
   "outputs": [],
   "source": [],
   "metadata": {
    "collapsed": false,
    "pycharm": {
     "name": "#%%\n"
    }
   }
  }
 ],
 "metadata": {
  "kernelspec": {
   "display_name": "Python 3",
   "language": "python",
   "name": "python3"
  },
  "language_info": {
   "codemirror_mode": {
    "name": "ipython",
    "version": 2
   },
   "file_extension": ".py",
   "mimetype": "text/x-python",
   "name": "python",
   "nbconvert_exporter": "python",
   "pygments_lexer": "ipython2",
   "version": "2.7.6"
  }
 },
 "nbformat": 4,
 "nbformat_minor": 0
}